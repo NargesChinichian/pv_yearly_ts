{
 "cells": [
  {
   "cell_type": "code",
   "execution_count": null,
   "id": "042b8b4a",
   "metadata": {},
   "outputs": [],
   "source": [
    "import csv\n",
    "import numpy as np\n",
    "import pandas as pd "
   ]
  },
  {
   "cell_type": "code",
   "execution_count": null,
   "id": "f5e259d3",
   "metadata": {},
   "outputs": [],
   "source": [
    "r = range(1,32)\n",
    "days = []\n",
    "for d in r:\n",
    "    days.append(str(d).rjust(2, '0'))\n",
    "\n",
    "months2022 = [\"01\",\"02\",\"03\",\"04\",\"05\",\"06\"]\n",
    "months2021 = [\"07\",\"08\",\"09\",\"10\",\"11\",\"12\"]\n",
    "len_months2022 = [31,28,31,30,31,30]\n",
    "len_months2021 = [31,31,30,31,30,31]"
   ]
  },
  {
   "cell_type": "code",
   "execution_count": null,
   "id": "985519db",
   "metadata": {},
   "outputs": [],
   "source": [
    "for month in months2021:\n",
    "    #Whole_month = []\n",
    "    Whole_month =np.empty(0)\n",
    "    for day in days[0:len_months2021[months2021.index(month)]]:\n",
    "        Hourly_PV= np.zeros((24),dtype=int)\n",
    "        with open('./2021/%s/2021%s%s.csv'%(month,month,day), newline='') as csvfile:\n",
    "            table = csv.reader(csvfile)\n",
    "            all_rows = []\n",
    "            for row in table:\n",
    "                all_rows.append(row)\n",
    "            for l in range(1,len(all_rows)):\n",
    "                Hourly_PV[int(all_rows[l][0][11:13])] += int(all_rows[l][1])\n",
    "            pd.DataFrame(Hourly_PV).to_csv(\"./2021/%s/Hourly_2021%s%s.csv\"%(month,month,day))\n",
    "#             Whole_month.append(Hourly_PV)\n",
    "#             np.array(Whole_month)\n",
    "            Whole_month = np.concatenate((Whole_month,Hourly_PV), axis=0)\n",
    "    pd.DataFrame(Whole_month).to_csv(\"./2021/%s/String_WholeMonth_2021%s.csv\"%(month,month))\n",
    "        "
   ]
  },
  {
   "cell_type": "code",
   "execution_count": null,
   "id": "bcc335b9",
   "metadata": {},
   "outputs": [],
   "source": [
    "all_hours_year2022 = []\n",
    "for month in months2022:\n",
    "    with open('./2022/%s/String_WholeMonth_2022%s.csv'%(month,month), newline='') as csvfile:\n",
    "        table = csv.reader(csvfile)\n",
    "        for rows in table:\n",
    "            all_hours_year2022.append(rows[1])\n",
    "print(len(all_hours_year2022))  \n",
    "pd.DataFrame(all_hours_year2022).to_csv(\"./2022/all_hours_year2022.csv\")"
   ]
  },
  {
   "cell_type": "code",
   "execution_count": null,
   "id": "3255ea14",
   "metadata": {},
   "outputs": [],
   "source": [
    "#for checking with hand:\n",
    "# with open('./2021/07/20210.csv', newline='') as csvfile:\n",
    "#     table = csv.reader(csvfile)\n",
    "#     for row in table:\n",
    "#         print(row)"
   ]
  }
 ],
 "metadata": {
  "kernelspec": {
   "display_name": "Python 3 (ipykernel)",
   "language": "python",
   "name": "python3"
  },
  "language_info": {
   "codemirror_mode": {
    "name": "ipython",
    "version": 3
   },
   "file_extension": ".py",
   "mimetype": "text/x-python",
   "name": "python",
   "nbconvert_exporter": "python",
   "pygments_lexer": "ipython3",
   "version": "3.9.7"
  }
 },
 "nbformat": 4,
 "nbformat_minor": 5
}
